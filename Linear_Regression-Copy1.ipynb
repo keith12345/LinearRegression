{
 "cells": [
  {
   "cell_type": "markdown",
   "metadata": {},
   "source": [
    "# Gradient Descent, the Normal Equation, Learning Rates, and why all of this matters for Linear Regression"
   ]
  },
  {
   "cell_type": "markdown",
   "metadata": {},
   "source": [
    "Linear regression is typically used as the hello world for data science. It's one of the oldest machine learning models (designed far before machines could learn) but, despite being so old, it's far from being the simplest model. Understanding linear regression is also the first step toward understanding more sophisticated models like logistic regression, support vector machines, and even deep learning models.\n",
    "\n",
    "Below I'll get into some of the nitty-gritty of linear regression so that those reading can have a deeper understanding of how the model works and, if you choose, create your own implementation of it.\n",
    "\n",
    "I don't see any point in waiting, so, let's dive into the code and do some necessary imports.\n",
    "\n",
    "We'll use `numpy` for speed, and `minmax_scale`, `train_test_split`, and `r2_score` from `sklearn` for convenience and `LinearRegression` from `sklearn` to test some of our implementations. We've also imported `time` and `altair` to compare the time complexity of one of our implementations against `sklearn`'s and `pandas` to store our data when plotting in `altair`."
   ]
  },
  {
   "cell_type": "code",
   "execution_count": 1,
   "metadata": {},
   "outputs": [],
   "source": [
    "import numpy as np\n",
    "\n",
    "from sklearn.linear_model import LinearRegression\n",
    "from sklearn.preprocessing import minmax_scale\n",
    "from sklearn.model_selection import train_test_split\n",
    "from sklearn.metrics import r2_score\n",
    "\n",
    "import pandas as pd\n",
    "# import altair as alt\n",
    "\n",
    "from time import time\n",
    "import pickle"
   ]
  },
  {
   "cell_type": "markdown",
   "metadata": {},
   "source": [
    "Rather than direct everyone to a potentially broken link, feel free to test any implementations using the code below to generate data."
   ]
  },
  {
   "cell_type": "code",
   "execution_count": 2,
   "metadata": {},
   "outputs": [],
   "source": [
    "def create_data(n_feats=8, n_obs=1000):\n",
    "    features = ('f' + str(x) for x in range(n_feats))\n",
    "    target = abs(np.random.normal(1000, 250, n_obs))\n",
    "    feat_vals = []\n",
    "    for feature in features:\n",
    "        feat_vals.append(np.fromiter((np.random.normal(\n",
    "                            abs(np.random.normal(target[i],\n",
    "                            abs(np.random.normal(100, 30)))))\n",
    "                            for i in range(n_obs)), dtype='float'))\n",
    "    X = np.array(feat_vals).T\n",
    "    return X, target"
   ]
  },
  {
   "cell_type": "code",
   "execution_count": 4,
   "metadata": {},
   "outputs": [],
   "source": [
    "X, target = create_data(n_feats=8, n_obs=1000)\n",
    "X_scaled = minmax_scale(X)\n",
    "X_train, X_test, y_train, y_test = train_test_split(X_scaled, target,\n",
    "                                                    test_size=0.33,\n",
    "                                                    random_state=42)"
   ]
  },
  {
   "cell_type": "markdown",
   "metadata": {},
   "source": [
    "## The Line of Best Fit"
   ]
  },
  {
   "cell_type": "markdown",
   "metadata": {},
   "source": [
    "We can't talk about machine learning models like Linear Regression without first quickly reviewing where these models come from.  \n",
    "\n",
    "The great grandfather of linear regression is the line of best fit. You use it when you have a single input variable and a single output variable. That's when it works.\n",
    "\n",
    "Given $n \\times 1$ explanatory and response variables, we can calculate the slope and intercept of the line of best fit."
   ]
  },
  {
   "cell_type": "code",
   "execution_count": 5,
   "metadata": {},
   "outputs": [
    {
     "data": {
      "text/plain": [
       "0.858485601107073"
      ]
     },
     "execution_count": 5,
     "metadata": {},
     "output_type": "execute_result"
    }
   ],
   "source": [
    "x_train = X_train[:, 0]\n",
    "x_test = X_test[:, 0]\n",
    "\n",
    "x_mean = x_train.mean()\n",
    "y_mean = y_train.mean()\n",
    "m = ((x_train - x_mean) * (y_train - y_mean)).sum() / ((x_train - x_mean)**2).sum()\n",
    "b = y_mean - m * x_mean\n",
    "preds = m * x_test + b\n",
    "1 - ((y_test - preds)**2).sum() / ((y_test - y_mean)**2).sum()        "
   ]
  },
  {
   "cell_type": "markdown",
   "metadata": {},
   "source": [
    "This can be done without iteration. We simply find the slope of the line (`m`) and then use that while calculating our intercept (`b`).  \n",
    "\n",
    "We can see that the prediction is (almost) the same as when we use sklearn's LinearRegression"
   ]
  },
  {
   "cell_type": "code",
   "execution_count": 6,
   "metadata": {},
   "outputs": [
    {
     "data": {
      "text/plain": [
       "0.8584853089226635"
      ]
     },
     "execution_count": 6,
     "metadata": {},
     "output_type": "execute_result"
    }
   ],
   "source": [
    "LinearRegression().fit(x_train.reshape(-1, 1), y_train).score(x_test.reshape(-1, 1), y_test)"
   ]
  },
  {
   "cell_type": "markdown",
   "metadata": {},
   "source": [
    "## Normal Equation Method\n",
    "The line of best fit works when we have a single explanatory variable. What do we do when we have multiple explanatory variables? For that we take a huge leap forward in complexity and use the normal equation; the equation that we get from differentiating the residual sum of squares equation.\n",
    "\n",
    "The derivative of RSS deserves it's entire own blog/video, fortunately it's already been done a million times over. Search for your own explanation or just look at this [video](https://www.youtube.com/watch?v=K_EH2abOp00) or at [wiki](https://en.wikipedia.org/wiki/Proofs_involving_ordinary_least_squares) for both the matrix and summation notation.\n",
    "\n",
    "Ultimately, when we differentiate the residual sum of squares equation:  \n",
    "$RSS={\\bigl \\|}\\mathbf {y} -\\mathbf {X}{\\beta }{\\bigl \\|}^2$  \n",
    "we get:  \n",
    "$(\\mathbf {X} ^{\\rm {T}}\\mathbf {X} )^{-1}\\mathbf {X} ^{\\rm {T}}\\mathbf {y} =0$  \n",
    "\n",
    "This is the equation that we'll use in our next example."
   ]
  },
  {
   "cell_type": "code",
   "execution_count": 3,
   "metadata": {},
   "outputs": [],
   "source": [
    "class NormalEquation:\n",
    "    \n",
    "    def __init__(self):\n",
    "        pass\n",
    "    \n",
    "    def __repr__(self):\n",
    "        return \"OLS()\"\n",
    "    \n",
    "    def fit(self, X_train, y_train):\n",
    "        # Our new column that we'll call intercept\n",
    "        # We make it based on the shape of the first column in our training data\n",
    "        intercept = np.ones_like(X_train[:, 0])\n",
    "        \n",
    "        # We add our new column to our training data and create a new variable\n",
    "        X_train_int = np.insert(X_train, 0, intercept, axis=1)\n",
    "        \n",
    "        # Use the normal equation\n",
    "        # (X_train_int.T @ X_train_int)^-1 = ((k x n) @ (n x k))^-1 -> k x k\n",
    "        # X_train_int.T = (k x n)\n",
    "        # y_train = (n x 1)\n",
    "        # coefs = (k x k) @ (k x n) @ (n x 1) -> k x 1\n",
    "        coefs = np.linalg.inv(X_train_int.T @ X_train_int) @ X_train_int.T @ y_train\n",
    "        \n",
    "        # Save our coefficients for later use\n",
    "        self.coefs_ = coefs\n",
    "        return self\n",
    "    \n",
    "    def predict(self, X_test):\n",
    "        # Again, we create a new column for the test data\n",
    "        intercept = np.ones_like(X_test[:, 0])\n",
    "        X_test_int = np.insert(X_test, 0, intercept, axis=1)\n",
    "        \n",
    "        # preds = (n x k) @ (k x 1) = n x 1\n",
    "        preds = X_test_int @ self.coefs_\n",
    "        return preds\n",
    "    \n",
    "    def score(self, X_test, y_test):\n",
    "        # Again, we create a new column for the test data\n",
    "        intercept = np.ones_like(X_test[:, 0])\n",
    "        X_test_int = np.insert(X_test, 0, intercept, axis=1)\n",
    "\n",
    "        # preds = (n x k) @ (k x 1) = n x 1\n",
    "        preds = X_test_int @ self.coefs_\n",
    "        \n",
    "        # Here we're simply calculating r-squared\n",
    "        score = 1 - ((y_test - preds)**2).sum() / ((y_test - y_test.mean())**2).sum()\n",
    "        return score"
   ]
  },
  {
   "cell_type": "code",
   "execution_count": 18,
   "metadata": {},
   "outputs": [
    {
     "data": {
      "text/plain": [
       "0.9729673284160013"
      ]
     },
     "execution_count": 18,
     "metadata": {},
     "output_type": "execute_result"
    }
   ],
   "source": [
    "NormalEquation().fit(X_train, y_train).score(X_test, y_test)"
   ]
  },
  {
   "cell_type": "markdown",
   "metadata": {},
   "source": [
    "For anyone who didn't dig into the above model, it's worth pointing out separately that the equation to determine the coefficients for our linear model is just this one liner. (_The `int` in the variable name `X_train_int` refers to the fact that we've added a column on `1`s to act as the **int**ercept_).\n",
    "``` python\n",
    "coefs = np.linalg.inv(X_train_int.T @ X_train_int) @ X_train_int.T @ y_train\n",
    "```\n",
    "\n",
    "If you didn't add the column of ones, the equation would calculate all coefficients given an intercept of `0`. \n",
    "\n",
    "A quick thought experiment for you:  \n",
    "\n",
    "> Think about how one would account for an intercept using the normal equation without adding the column of ones.\n",
    ">> Hint: what does the intercept do, and what might you do so that an intercept of `0` is the ideal intercept?\n",
    "\n",
    "Side note:  \n",
    "> _For anymore unfamiliar with the `__repr__` \"dunder\", try deleting it and finding out what changes. If you'd like to learn more, I strongly recommend reading [Fluent Python](http://index-of.es/Varios-2/Fluent%20Python%20Clear%20Concise%20and%20Effective%20Programming.pdf). In it, they go over `__repr__` and some of the other \"magic methods\" found in python and how they compare to those found in other programming languages (as well as pretty much anything else you would ever want to know about python)._\n",
    "\n",
    "Below, I've timed and plotted the duration of `sklearn`'s gradient descent implementation against the normal equation _(the amount of code required was a bit excessive for this blog, if you would like to see how I tested this, please feel free to checkout my [github repository](https://github.com/keith12345/LinearRegression) for this post)_.\n",
    "\n",
    "You can see that while the normal equation is initially faster, the duration eventually overtakes the gradient descent implementation due to its quadratic/cubic time complexity.\n",
    "\n",
    "> Diving a bit deeper into the normal equation's time complexity, we can take note of the following given $n$ observations and $k$ features:\n",
    "> * $X^TX$ -> O($k^2n$)\n",
    "> * $X^Ty$ -> O($kn$)\n",
    "> * $(X^TX)^{-1}(X^Ty)$ -> O($k^3$)\n",
    ">\n",
    "> O($k^2n$) grows asymptotically, far faster than O($kn$). As we're using the normal equation, $n$ will always need to be greater than or equal to $k+1$ (we add the $+1$ for our column of zeros) for the sake of matrix invertibility. That means that O($k^2n$) is either greater than or equal to O($k^3$).\n",
    ">\n",
    "> In my example, I'll be using a square matrix for the sake of worst-case-scenario time complexity.\n",
    "\n",
    "Mini-batch gradient descent, on the other hand, has no objectively true time complexity as is explained eloquently by Kandasamy Illanko in a answer of his on [Quora](https://www.quora.com/Whats-the-time-complexity-and-convergence-rate-for-using-stochastic-gradient-descent-in-deep-learning).\n",
    "\n",
    "It's worth noting that if you were performing a task that did not require huge amounts of data and did require extremely fast training without regularization, a simple custom implementation of the normal equation might be the ideal model choice. "
   ]
  },
  {
   "cell_type": "code",
   "execution_count": 14,
   "metadata": {},
   "outputs": [],
   "source": [
    "X, target = create_data(5_000, 5_000)"
   ]
  },
  {
   "cell_type": "code",
   "execution_count": 15,
   "metadata": {},
   "outputs": [],
   "source": [
    "file = open(\"Data/\"+str(X.shape[0])+\"_X.pkl\", \"wb\")\n",
    "pickle.dump(X, file)\n",
    "file.close()\n",
    "\n",
    "file = open(\"Data/\"+str(X.shape[0])+\"_y.pkl\", \"wb\")\n",
    "pickle.dump(target, file)\n",
    "file.close()"
   ]
  },
  {
   "cell_type": "code",
   "execution_count": 16,
   "metadata": {},
   "outputs": [
    {
     "ename": "FileNotFoundError",
     "evalue": "[Errno 2] No such file or directory: 'Data/10000_X.pkl'",
     "output_type": "error",
     "traceback": [
      "\u001b[0;31m---------------------------------------------------------------------------\u001b[0m",
      "\u001b[0;31mFileNotFoundError\u001b[0m                         Traceback (most recent call last)",
      "\u001b[0;32m<ipython-input-16-1aac41a2c14b>\u001b[0m in \u001b[0;36m<module>\u001b[0;34m\u001b[0m\n\u001b[0;32m----> 1\u001b[0;31m \u001b[0mfile\u001b[0m \u001b[0;34m=\u001b[0m \u001b[0mopen\u001b[0m\u001b[0;34m(\u001b[0m\u001b[0;34m\"Data/10000_X.pkl\"\u001b[0m\u001b[0;34m,\u001b[0m \u001b[0;34m\"rb\"\u001b[0m\u001b[0;34m)\u001b[0m\u001b[0;34m\u001b[0m\u001b[0;34m\u001b[0m\u001b[0m\n\u001b[0m\u001b[1;32m      2\u001b[0m \u001b[0mX\u001b[0m \u001b[0;34m=\u001b[0m \u001b[0mpickle\u001b[0m\u001b[0;34m.\u001b[0m\u001b[0mload\u001b[0m\u001b[0;34m(\u001b[0m\u001b[0mfile\u001b[0m\u001b[0;34m)\u001b[0m\u001b[0;34m\u001b[0m\u001b[0;34m\u001b[0m\u001b[0m\n\u001b[1;32m      3\u001b[0m \u001b[0mfile\u001b[0m\u001b[0;34m.\u001b[0m\u001b[0mclose\u001b[0m\u001b[0;34m(\u001b[0m\u001b[0;34m)\u001b[0m\u001b[0;34m\u001b[0m\u001b[0;34m\u001b[0m\u001b[0m\n\u001b[1;32m      4\u001b[0m \u001b[0;34m\u001b[0m\u001b[0m\n\u001b[1;32m      5\u001b[0m \u001b[0mfile\u001b[0m \u001b[0;34m=\u001b[0m \u001b[0mopen\u001b[0m\u001b[0;34m(\u001b[0m\u001b[0;34m\"Data/10000_y.pkl\"\u001b[0m\u001b[0;34m,\u001b[0m \u001b[0;34m\"rb\"\u001b[0m\u001b[0;34m)\u001b[0m\u001b[0;34m\u001b[0m\u001b[0;34m\u001b[0m\u001b[0m\n",
      "\u001b[0;31mFileNotFoundError\u001b[0m: [Errno 2] No such file or directory: 'Data/10000_X.pkl'"
     ]
    }
   ],
   "source": [
    "file = open(\"Data/10000_X.pkl\", \"rb\")\n",
    "X = pickle.load(file)\n",
    "file.close()\n",
    "\n",
    "file = open(\"Data/10000_y.pkl\", \"rb\")\n",
    "target = pickle.load(file)\n",
    "file.close()"
   ]
  },
  {
   "cell_type": "code",
   "execution_count": 19,
   "metadata": {},
   "outputs": [],
   "source": [
    "new_feats = ('f' + str(x) for x in range(X.shape[1]))\n",
    "new_targs = abs(np.random.normal(1_000, 250, 5_000))\n",
    "new_feat_vals = []\n",
    "for feature in new_feats:\n",
    "    new_feat_vals.append(np.fromiter((np.random.normal(\n",
    "                        abs(np.random.normal(new_targs[i],\n",
    "                        abs(np.random.normal(100, 30)))))\n",
    "                        for i in range(5_000)), dtype='float'))\n",
    "new_X = np.array(new_feat_vals).T\n",
    "new_X = minmax_scale(new_X)\n",
    "\n",
    "# Add features for new observations\n",
    "X = np.append(X, new_X, axis=0)\n",
    "\n",
    "# Add new target for new observations\n",
    "target = np.append(target, new_targs, axis=0)\n",
    "\n",
    "# Creates new features for new and existing observations\n",
    "new_feats = ('f' + str(x) for x in range(5_000))\n",
    "new_feat_vals = []\n",
    "for feature in new_feats:\n",
    "    new_feat_vals.append(np.fromiter((np.random.normal(\n",
    "                        abs(np.random.normal(target[i],\n",
    "                        abs(np.random.normal(100, 30)))))\n",
    "                        for i in range(target.shape[0])), dtype='float'))\n",
    "new_X = np.array(new_feat_vals).T\n",
    "new_X = minmax_scale(new_X)\n",
    "\n",
    "# Add new features to modifed matrix\n",
    "X = np.append(X, new_X, axis=1)\n",
    "\n",
    "\n",
    "feats_name = \"Data/feats_%s_x_%s.pkl\" % (str(X.shape[0]), str(X.shape[1]))\n",
    "targs_name = \"Data/targs_%s.pkl\" % str(target.shape[0])\n",
    "\n",
    "\n",
    "file = open(\"Data/\"+str(X.shape[0])+\"_X.pkl\", \"wb\")\n",
    "pickle.dump(X, file)\n",
    "file.close()\n",
    "\n",
    "file = open(\"Data/\"+str(X.shape[0])+\"_y\", \"wb\")\n",
    "pickle.dump(target, file)\n",
    "file.close()"
   ]
  },
  {
   "cell_type": "code",
   "execution_count": 35,
   "metadata": {},
   "outputs": [
    {
     "name": "stdout",
     "output_type": "stream",
     "text": [
      "1570512401.640782\n",
      "1570512594.8112147\n",
      "1570512964.3425307\n",
      "1570513500.7686107\n",
      "1570514275.7106183\n",
      "1570515348.3677688\n",
      "1570516795.2820206\n",
      "1570518511.6407208\n",
      "1570521918.6292152\n",
      "1570533612.2890399\n"
     ]
    },
    {
     "ename": "MemoryError",
     "evalue": "",
     "output_type": "error",
     "traceback": [
      "\u001b[0;31m---------------------------------------------------------------------------\u001b[0m",
      "\u001b[0;31mMemoryError\u001b[0m                               Traceback (most recent call last)",
      "\u001b[0;32m<ipython-input-35-f08f305bc4eb>\u001b[0m in \u001b[0;36m<module>\u001b[0;34m\u001b[0m\n\u001b[1;32m     21\u001b[0m \u001b[0;34m\u001b[0m\u001b[0m\n\u001b[1;32m     22\u001b[0m         \u001b[0mstart\u001b[0m \u001b[0;34m=\u001b[0m \u001b[0mtime\u001b[0m\u001b[0;34m(\u001b[0m\u001b[0;34m)\u001b[0m\u001b[0;34m\u001b[0m\u001b[0;34m\u001b[0m\u001b[0m\n\u001b[0;32m---> 23\u001b[0;31m         \u001b[0mNormalEquation\u001b[0m\u001b[0;34m(\u001b[0m\u001b[0;34m)\u001b[0m\u001b[0;34m.\u001b[0m\u001b[0mfit\u001b[0m\u001b[0;34m(\u001b[0m\u001b[0mX\u001b[0m\u001b[0;34m,\u001b[0m \u001b[0mtarget\u001b[0m\u001b[0;34m)\u001b[0m\u001b[0;34m\u001b[0m\u001b[0;34m\u001b[0m\u001b[0m\n\u001b[0m\u001b[1;32m     24\u001b[0m         \u001b[0mend\u001b[0m \u001b[0;34m=\u001b[0m \u001b[0mtime\u001b[0m\u001b[0;34m(\u001b[0m\u001b[0;34m)\u001b[0m\u001b[0;34m\u001b[0m\u001b[0;34m\u001b[0m\u001b[0m\n\u001b[1;32m     25\u001b[0m         \u001b[0mnorml_equat_time_sub\u001b[0m\u001b[0;34m.\u001b[0m\u001b[0mappend\u001b[0m\u001b[0;34m(\u001b[0m\u001b[0mend\u001b[0m \u001b[0;34m-\u001b[0m \u001b[0mstart\u001b[0m\u001b[0;34m)\u001b[0m\u001b[0;34m\u001b[0m\u001b[0;34m\u001b[0m\u001b[0m\n",
      "\u001b[0;32m<ipython-input-3-7c66c42feb7e>\u001b[0m in \u001b[0;36mfit\u001b[0;34m(self, X_train, y_train)\u001b[0m\n\u001b[1;32m     20\u001b[0m         \u001b[0;31m# y_train = (n x 1)\u001b[0m\u001b[0;34m\u001b[0m\u001b[0;34m\u001b[0m\u001b[0;34m\u001b[0m\u001b[0m\n\u001b[1;32m     21\u001b[0m         \u001b[0;31m# coefs = (k x k) @ (k x n) @ (n x 1) -> k x 1\u001b[0m\u001b[0;34m\u001b[0m\u001b[0;34m\u001b[0m\u001b[0;34m\u001b[0m\u001b[0m\n\u001b[0;32m---> 22\u001b[0;31m         \u001b[0mcoefs\u001b[0m \u001b[0;34m=\u001b[0m \u001b[0mnp\u001b[0m\u001b[0;34m.\u001b[0m\u001b[0mlinalg\u001b[0m\u001b[0;34m.\u001b[0m\u001b[0minv\u001b[0m\u001b[0;34m(\u001b[0m\u001b[0mX_train_int\u001b[0m\u001b[0;34m.\u001b[0m\u001b[0mT\u001b[0m \u001b[0;34m@\u001b[0m \u001b[0mX_train_int\u001b[0m\u001b[0;34m)\u001b[0m \u001b[0;34m@\u001b[0m \u001b[0mX_train_int\u001b[0m\u001b[0;34m.\u001b[0m\u001b[0mT\u001b[0m \u001b[0;34m@\u001b[0m \u001b[0my_train\u001b[0m\u001b[0;34m\u001b[0m\u001b[0;34m\u001b[0m\u001b[0m\n\u001b[0m\u001b[1;32m     23\u001b[0m \u001b[0;34m\u001b[0m\u001b[0m\n\u001b[1;32m     24\u001b[0m         \u001b[0;31m# Save our coefficients for later use\u001b[0m\u001b[0;34m\u001b[0m\u001b[0;34m\u001b[0m\u001b[0;34m\u001b[0m\u001b[0m\n",
      "\u001b[0;31mMemoryError\u001b[0m: "
     ]
    }
   ],
   "source": [
    "norml_equat_time = []\n",
    "sklrn_model_time = []\n",
    "sklrn_njms1_time = []\n",
    "\n",
    "for _ in range(100):\n",
    "        \n",
    "    # Create pickle names\n",
    "    feats_name = \"Data/feats_%s_x_%s.pkl\" % (str(X.shape[0]), str(X.shape[1]))\n",
    "    targs_name = \"Data/targs_%s.pkl\" % str(target.shape[0])\n",
    "    \n",
    "    # Save pickled features\n",
    "#     pickle.dump(X, open(feats_name, \"wb\"))\n",
    "#     pickle.dump(target, open(targs_name, \"wb\"))\n",
    "    \n",
    "    # Sublists for taking average run-time\n",
    "    norml_equat_time_sub = []\n",
    "    sklrn_model_time_sub = []\n",
    "    sklrn_njms1_time_sub = []\n",
    "\n",
    "    for _ in range(3):\n",
    "\n",
    "        start = time()\n",
    "        NormalEquation().fit(X, target)\n",
    "        end = time()\n",
    "        norml_equat_time_sub.append(end - start)\n",
    "\n",
    "        start = time()\n",
    "        LinearRegression().fit(X, target)\n",
    "        end = time()\n",
    "        sklrn_model_time_sub.append(end - start)\n",
    "        \n",
    "        start = time()\n",
    "        LinearRegression(n_jobs=-1).fit(X, target)\n",
    "        end = time()\n",
    "        sklrn_njms1_time_sub.append(end - start)\n",
    "\n",
    "    # Add average time to list\n",
    "    norml_equat_time.append(sum(norml_equat_time_sub)/3)\n",
    "    sklrn_model_time.append(sum(sklrn_model_time_sub)/3)\n",
    "    sklrn_njms1_time.append(sum(sklrn_njms1_time_sub)/3)\n",
    "    \n",
    "    # Save results for each iteration in the even the loop\n",
    "    # terminates early\n",
    "    results = [norml_equat_time, sklrn_model_time, sklrn_njms1_time]\n",
    "    results_name = \"Data/results_%s.pkl\" % str(target.shape[0])\n",
    "    \n",
    "    file = open(results_name, \"wb\")\n",
    "    pickle.dump(results, file)\n",
    "    file.close()\n",
    "    \n",
    "    print(time())\n",
    "    \n",
    "    # Creates new observations with same number of features\n",
    "    # as existing matrix\n",
    "    new_feats = ['f' + str(x) for x in range(X.shape[1])]\n",
    "    new_targs = abs(np.random.normal(1_000, 250, 10_000))\n",
    "    new_feat_vals = []\n",
    "    for feature in new_feats:\n",
    "        new_feat_vals.append([np.random.normal(\n",
    "                            abs(np.random.normal(new_targs[i],\n",
    "                            abs(np.random.normal(100, 30)))))\n",
    "                            for i in range(10_000)])\n",
    "    new_X = np.array(new_feat_vals).T\n",
    "    new_X = minmax_scale(new_X)\n",
    "\n",
    "    # Add features for new observations\n",
    "    X = np.append(X, new_X, axis=0)\n",
    "\n",
    "    # Add new target for new observations\n",
    "    target = np.append(target, new_targs, axis=0)\n",
    "\n",
    "    # Creates new features for new and existing observations\n",
    "    new_feats = ['f' + str(x) for x in range(1_000)]\n",
    "    new_feat_vals = []\n",
    "    for feature in new_feats:\n",
    "        new_feat_vals.append([np.random.normal(\n",
    "                            abs(np.random.normal(target[i],\n",
    "                            abs(np.random.normal(100, 30)))))\n",
    "                            for i in range(X.shape[0])])\n",
    "    new_X = np.array(new_feat_vals).T\n",
    "    new_X = minmax_scale(new_X)\n",
    "\n",
    "    # Add new features to modifed matrix\n",
    "    X = np.append(X, new_X, axis=1)"
   ]
  },
  {
   "cell_type": "code",
   "execution_count": 7,
   "metadata": {},
   "outputs": [
    {
     "data": {
      "text/plain": [
       "[[1.1736381848653157, 3.9579219818115234, 8.806887944539389],\n",
       " [2.088935295740763, 6.322096506754558, 15.52100928624471],\n",
       " [1.8901692231496174, 6.400180339813232, 15.898442586263021]]"
      ]
     },
     "execution_count": 7,
     "metadata": {},
     "output_type": "execute_result"
    }
   ],
   "source": [
    "results"
   ]
  },
  {
   "cell_type": "code",
   "execution_count": 52,
   "metadata": {},
   "outputs": [
    {
     "data": {
      "application/vnd.vegalite.v3+json": {
       "$schema": "https://vega.github.io/schema/vega-lite/v3.4.0.json",
       "config": {
        "mark": {
         "tooltip": null
        },
        "view": {
         "height": 300,
         "width": 400
        }
       },
       "data": {
        "name": "data-9fcda61be5a7ee5a8601f9b478e32c44"
       },
       "datasets": {
        "data-9fcda61be5a7ee5a8601f9b478e32c44": [
         {
          "Duration": 0.00018320083618164062,
          "Model": "Normal Equation",
          "N Observations": 2500
         },
         {
          "Duration": 0.00044569969177246096,
          "Model": "Normal Equation",
          "N Observations": 5000
         },
         {
          "Duration": 0.0011010169982910156,
          "Model": "Normal Equation",
          "N Observations": 7500
         },
         {
          "Duration": 0.0014439105987548828,
          "Model": "Normal Equation",
          "N Observations": 10000
         },
         {
          "Duration": 0.0010820865631103516,
          "Model": "Normal Equation",
          "N Observations": 12500
         },
         {
          "Duration": 0.0019362926483154296,
          "Model": "Normal Equation",
          "N Observations": 15000
         },
         {
          "Duration": 0.002657032012939453,
          "Model": "Normal Equation",
          "N Observations": 17500
         },
         {
          "Duration": 0.0034833908081054687,
          "Model": "Normal Equation",
          "N Observations": 20000
         },
         {
          "Duration": 0.003354454040527344,
          "Model": "Normal Equation",
          "N Observations": 22500
         },
         {
          "Duration": 0.004104471206665039,
          "Model": "Normal Equation",
          "N Observations": 25000
         },
         {
          "Duration": 0.005140495300292969,
          "Model": "Normal Equation",
          "N Observations": 27500
         },
         {
          "Duration": 0.003990316390991211,
          "Model": "Normal Equation",
          "N Observations": 30000
         },
         {
          "Duration": 0.0063016414642333984,
          "Model": "Normal Equation",
          "N Observations": 32500
         },
         {
          "Duration": 0.0024335384368896484,
          "Model": "Normal Equation",
          "N Observations": 35000
         },
         {
          "Duration": 0.004806900024414062,
          "Model": "Normal Equation",
          "N Observations": 37500
         },
         {
          "Duration": 0.006242561340332031,
          "Model": "Normal Equation",
          "N Observations": 40000
         },
         {
          "Duration": 0.005733633041381836,
          "Model": "Normal Equation",
          "N Observations": 42500
         },
         {
          "Duration": 0.004792165756225586,
          "Model": "Normal Equation",
          "N Observations": 45000
         },
         {
          "Duration": 0.007209300994873047,
          "Model": "Normal Equation",
          "N Observations": 47500
         },
         {
          "Duration": 0.005322647094726562,
          "Model": "Normal Equation",
          "N Observations": 50000
         },
         {
          "Duration": 0.006867551803588867,
          "Model": "Normal Equation",
          "N Observations": 52500
         },
         {
          "Duration": 0.006502723693847657,
          "Model": "Normal Equation",
          "N Observations": 55000
         },
         {
          "Duration": 0.007532358169555664,
          "Model": "Normal Equation",
          "N Observations": 57500
         },
         {
          "Duration": 0.008084917068481445,
          "Model": "Normal Equation",
          "N Observations": 60000
         },
         {
          "Duration": 0.008823156356811523,
          "Model": "Normal Equation",
          "N Observations": 62500
         },
         {
          "Duration": 0.0080657958984375,
          "Model": "Normal Equation",
          "N Observations": 65000
         },
         {
          "Duration": 0.008763742446899415,
          "Model": "Normal Equation",
          "N Observations": 67500
         },
         {
          "Duration": 0.009937715530395509,
          "Model": "Normal Equation",
          "N Observations": 70000
         },
         {
          "Duration": 0.010933732986450196,
          "Model": "Normal Equation",
          "N Observations": 72500
         },
         {
          "Duration": 0.010667896270751953,
          "Model": "Normal Equation",
          "N Observations": 75000
         },
         {
          "Duration": 0.010551929473876953,
          "Model": "Normal Equation",
          "N Observations": 77500
         },
         {
          "Duration": 0.011010694503784179,
          "Model": "Normal Equation",
          "N Observations": 80000
         },
         {
          "Duration": 0.011783266067504882,
          "Model": "Normal Equation",
          "N Observations": 82500
         },
         {
          "Duration": 0.01095428466796875,
          "Model": "Normal Equation",
          "N Observations": 85000
         },
         {
          "Duration": 0.011032629013061523,
          "Model": "Normal Equation",
          "N Observations": 87500
         },
         {
          "Duration": 0.011328983306884765,
          "Model": "Normal Equation",
          "N Observations": 90000
         },
         {
          "Duration": 0.011476850509643555,
          "Model": "Normal Equation",
          "N Observations": 92500
         },
         {
          "Duration": 0.01049180030822754,
          "Model": "Normal Equation",
          "N Observations": 95000
         },
         {
          "Duration": 0.012974834442138672,
          "Model": "Normal Equation",
          "N Observations": 97500
         },
         {
          "Duration": 0.012497568130493164,
          "Model": "Normal Equation",
          "N Observations": 100000
         },
         {
          "Duration": 0.00018854141235351561,
          "Model": "Sklearn",
          "N Observations": 2500
         },
         {
          "Duration": 0.0018129348754882812,
          "Model": "Sklearn",
          "N Observations": 5000
         },
         {
          "Duration": 0.0011967182159423827,
          "Model": "Sklearn",
          "N Observations": 7500
         },
         {
          "Duration": 0.00163421630859375,
          "Model": "Sklearn",
          "N Observations": 10000
         },
         {
          "Duration": 0.0031347274780273438,
          "Model": "Sklearn",
          "N Observations": 12500
         },
         {
          "Duration": 0.005405282974243164,
          "Model": "Sklearn",
          "N Observations": 15000
         },
         {
          "Duration": 0.006812286376953125,
          "Model": "Sklearn",
          "N Observations": 17500
         },
         {
          "Duration": 0.005919027328491211,
          "Model": "Sklearn",
          "N Observations": 20000
         },
         {
          "Duration": 0.006806039810180664,
          "Model": "Sklearn",
          "N Observations": 22500
         },
         {
          "Duration": 0.006315755844116211,
          "Model": "Sklearn",
          "N Observations": 25000
         },
         {
          "Duration": 0.009578227996826172,
          "Model": "Sklearn",
          "N Observations": 27500
         },
         {
          "Duration": 0.010611295700073242,
          "Model": "Sklearn",
          "N Observations": 30000
         },
         {
          "Duration": 0.010399293899536134,
          "Model": "Sklearn",
          "N Observations": 32500
         },
         {
          "Duration": 0.01040334701538086,
          "Model": "Sklearn",
          "N Observations": 35000
         },
         {
          "Duration": 0.007159519195556641,
          "Model": "Sklearn",
          "N Observations": 37500
         },
         {
          "Duration": 0.009661149978637696,
          "Model": "Sklearn",
          "N Observations": 40000
         },
         {
          "Duration": 0.010001659393310547,
          "Model": "Sklearn",
          "N Observations": 42500
         },
         {
          "Duration": 0.010456514358520509,
          "Model": "Sklearn",
          "N Observations": 45000
         },
         {
          "Duration": 0.01193394660949707,
          "Model": "Sklearn",
          "N Observations": 47500
         },
         {
          "Duration": 0.011853885650634766,
          "Model": "Sklearn",
          "N Observations": 50000
         },
         {
          "Duration": 0.011647939682006836,
          "Model": "Sklearn",
          "N Observations": 52500
         },
         {
          "Duration": 0.013096475601196289,
          "Model": "Sklearn",
          "N Observations": 55000
         },
         {
          "Duration": 0.011630821228027343,
          "Model": "Sklearn",
          "N Observations": 57500
         },
         {
          "Duration": 0.014862251281738282,
          "Model": "Sklearn",
          "N Observations": 60000
         },
         {
          "Duration": 0.014982509613037109,
          "Model": "Sklearn",
          "N Observations": 62500
         },
         {
          "Duration": 0.016680240631103516,
          "Model": "Sklearn",
          "N Observations": 65000
         },
         {
          "Duration": 0.01670079231262207,
          "Model": "Sklearn",
          "N Observations": 67500
         },
         {
          "Duration": 0.015939712524414062,
          "Model": "Sklearn",
          "N Observations": 70000
         },
         {
          "Duration": 0.016237735748291016,
          "Model": "Sklearn",
          "N Observations": 72500
         },
         {
          "Duration": 0.018671560287475585,
          "Model": "Sklearn",
          "N Observations": 75000
         },
         {
          "Duration": 0.01806955337524414,
          "Model": "Sklearn",
          "N Observations": 77500
         },
         {
          "Duration": 0.018799781799316406,
          "Model": "Sklearn",
          "N Observations": 80000
         },
         {
          "Duration": 0.02146749496459961,
          "Model": "Sklearn",
          "N Observations": 82500
         },
         {
          "Duration": 0.019743585586547853,
          "Model": "Sklearn",
          "N Observations": 85000
         },
         {
          "Duration": 0.02158632278442383,
          "Model": "Sklearn",
          "N Observations": 87500
         },
         {
          "Duration": 0.023042058944702147,
          "Model": "Sklearn",
          "N Observations": 90000
         },
         {
          "Duration": 0.024187707901000978,
          "Model": "Sklearn",
          "N Observations": 92500
         },
         {
          "Duration": 0.022224950790405273,
          "Model": "Sklearn",
          "N Observations": 95000
         },
         {
          "Duration": 0.025022125244140624,
          "Model": "Sklearn",
          "N Observations": 97500
         },
         {
          "Duration": 0.024674606323242188,
          "Model": "Sklearn",
          "N Observations": 100000
         }
        ]
       },
       "encoding": {
        "color": {
         "field": "Model",
         "type": "nominal"
        },
        "x": {
         "field": "N Observations",
         "type": "quantitative"
        },
        "y": {
         "field": "Duration",
         "type": "quantitative"
        }
       },
       "mark": "line"
      },
      "image/png": "[encoded data removed]",
      "text/plain": [
       "<VegaLite 3 object>\n",
       "\n",
       "If you see this message, it means the renderer has not been properly enabled\n",
       "for the frontend that you are using. For more information, see\n",
       "https://altair-viz.github.io/user_guide/troubleshooting.html\n"
      ]
     },
     "execution_count": 52,
     "metadata": {},
     "output_type": "execute_result"
    }
   ],
   "source": [
    "\n",
    "x = np.arange(100)\n",
    "source = pd.DataFrame({\n",
    "    'Duration': normal_equation + sklearn_LinRegr,\n",
    "    'Model':['Normal Equation'] * 40 + ['Sklearn'] * 40,\n",
    "    'N Observations': list(n_observations) * 2\n",
    "})\n",
    "\n",
    "alt.Chart(source).mark_line().encode(\n",
    "    x='N Observations',\n",
    "    y='Duration',\n",
    "    color='Model'\n",
    ")\n"
   ]
  },
  {
   "cell_type": "code",
   "execution_count": 67,
   "metadata": {},
   "outputs": [
    {
     "data": {
      "application/vnd.vegalite.v3+json": {
       "$schema": "https://vega.github.io/schema/vega-lite/v3.4.0.json",
       "config": {
        "mark": {
         "tooltip": null
        },
        "view": {
         "height": 300,
         "width": 400
        }
       },
       "data": {
        "name": "data-2a3677be9459c82242adeb42fadcc604"
       },
       "datasets": {
        "data-2a3677be9459c82242adeb42fadcc604": [
         {
          "Duration": 0.0005667209625244141,
          "Model": "Normal Equation",
          "N Features": 10
         },
         {
          "Duration": 0.003632640838623047,
          "Model": "Normal Equation",
          "N Features": 20
         },
         {
          "Duration": 0.004336738586425781,
          "Model": "Normal Equation",
          "N Features": 30
         },
         {
          "Duration": 0.008085680007934571,
          "Model": "Normal Equation",
          "N Features": 40
         },
         {
          "Duration": 0.009032058715820312,
          "Model": "Normal Equation",
          "N Features": 50
         },
         {
          "Duration": 0.010331487655639649,
          "Model": "Normal Equation",
          "N Features": 60
         },
         {
          "Duration": 0.012557888031005859,
          "Model": "Normal Equation",
          "N Features": 70
         },
         {
          "Duration": 0.014185523986816407,
          "Model": "Normal Equation",
          "N Features": 80
         },
         {
          "Duration": 0.01842341423034668,
          "Model": "Normal Equation",
          "N Features": 90
         },
         {
          "Duration": 0.0185577392578125,
          "Model": "Normal Equation",
          "N Features": 100
         },
         {
          "Duration": 0.0024744510650634766,
          "Model": "Sklearn",
          "N Features": 10
         },
         {
          "Duration": 0.010059499740600586,
          "Model": "Sklearn",
          "N Features": 20
         },
         {
          "Duration": 0.010821247100830078,
          "Model": "Sklearn",
          "N Features": 30
         },
         {
          "Duration": 0.018256378173828126,
          "Model": "Sklearn",
          "N Features": 40
         },
         {
          "Duration": 0.018922090530395508,
          "Model": "Sklearn",
          "N Features": 50
         },
         {
          "Duration": 0.022018575668334962,
          "Model": "Sklearn",
          "N Features": 60
         },
         {
          "Duration": 0.029785919189453124,
          "Model": "Sklearn",
          "N Features": 70
         },
         {
          "Duration": 0.030413389205932617,
          "Model": "Sklearn",
          "N Features": 80
         },
         {
          "Duration": 0.04242739677429199,
          "Model": "Sklearn",
          "N Features": 90
         },
         {
          "Duration": 0.042919254302978514,
          "Model": "Sklearn",
          "N Features": 100
         }
        ]
       },
       "encoding": {
        "color": {
         "field": "Model",
         "type": "nominal"
        },
        "x": {
         "field": "N Features",
         "type": "quantitative"
        },
        "y": {
         "field": "Duration",
         "type": "quantitative"
        }
       },
       "mark": "line"
      },
      "image/png": "[encoded data removed]",
      "text/plain": [
       "<VegaLite 3 object>\n",
       "\n",
       "If you see this message, it means the renderer has not been properly enabled\n",
       "for the frontend that you are using. For more information, see\n",
       "https://altair-viz.github.io/user_guide/troubleshooting.html\n"
      ]
     },
     "execution_count": 67,
     "metadata": {},
     "output_type": "execute_result"
    }
   ],
   "source": [
    "import pandas as pd\n",
    "\n",
    "x = np.arange(100)\n",
    "source = pd.DataFrame({\n",
    "    'Duration': normal_equation + sklearn_LinRegr,\n",
    "    'Model':['Normal Equation'] * 10 + ['Sklearn'] * 10,\n",
    "    'N Features': list(n_feats) * 2\n",
    "})\n",
    "\n",
    "alt.Chart(source).mark_line().encode(\n",
    "    x='N Features',\n",
    "    y='Duration',\n",
    "    color='Model'\n",
    ")\n"
   ]
  },
  {
   "cell_type": "markdown",
   "metadata": {},
   "source": [
    "## Stochastic Gradient Descent"
   ]
  },
  {
   "cell_type": "markdown",
   "metadata": {},
   "source": [
    "While the normal equation above is incredibly fast given the size of our data (for those who didn't try it on their own, it's actually significantly faster than sklearn for a dataset of this size), it does not scale particularly well; that's why we typically use gradient descent in practice.\n",
    "\n",
    "Below I'll walk through taking the derivative of the cost function for gradient descent as well as provide some sudo code to warm us up before we dive into any more full fledged models.\n",
    "\n",
    "I'll walk through this derivative both becuase it is simpler than the derivative of RSS and it's what you'd likely be expected to code if you were asked to create a linear regression model in an interview. Knowing how to derive it on your own should help you remember how to build it when necessary."
   ]
  },
  {
   "cell_type": "markdown",
   "metadata": {},
   "source": [
    "### Differentiating Gradient Descent\n",
    "\n",
    "We start with a single squared error, or the _definition of the cost function_ which you can see below using two types of notation:  \n",
    "\n",
    "$ ((mx + b) - y)^2 $\n",
    "\n",
    "and  \n",
    "\n",
    "$\\left(h_{\\theta}(x^{(i)})-y^{(i)}\\right)^2$\n",
    "\n",
    "We'll use the first notation going forward.\n",
    "\n",
    "As mentioned, we need to take the derivative of the cost function. We will take it with respect to both $m$ (our coefficient) and $b$ (our intercept).\n",
    "\n",
    "#### Derivative with respect to $m$:  \n",
    "\n",
    "$\\frac{d}{dm}\\left[((mx + b) - y)^2\\right]$ ->  \n",
    "\n",
    "$2 \\times ((mx + b) - y) \\frac{d}{dm}\\left[((mx + b) - y)\\right]$ ->  \n",
    "\n",
    "$\\frac{d}{dm} 2 \\times ((mx + b) - y) \\times x$  \n",
    "\n",
    "We don't actually need the $2$ (we're minimizing this... it doesn't matter if we minimize $x$ or $2x$) so we just end up with:  \n",
    "\n",
    "$\\frac{d}{dm} ((mx + b) - y) \\times x$  \n",
    "\n",
    "#### Taking steps with $m$:  \n",
    "\n",
    "We multiply the derivative by the learning rate to get our step.  \n",
    "The code looks something like this:\n",
    "``` python\n",
    "pred = mx + b\n",
    "error = pred - y\n",
    "derivative = error * x\n",
    "step = derivative * learning_rate\n",
    "```\n",
    "After taking the derivative with respect to $m$, the derivative with respect to $b$ should be slightly easier:\n",
    "\n",
    "#### Derivative with respect to $b$:  \n",
    "\n",
    "$\\frac{d}{dm}\\left[((mx + b) - y)^2\\right]$ ->  \n",
    "\n",
    "$2 \\times ((mx + b) - y) \\frac{d}{dm}\\left[((mx + b) - y)\\right]$ ->  \n",
    "\n",
    "$\\frac{d}{dm} 2 \\times ((mx + b) - y) \\times 1$ ->\n",
    "\n",
    "$\\frac{d}{dm} (mx + b) - y$\n",
    "\n",
    "The only difference is that we're not multiplying $b$ by anything so it essentially dissappears after taking its derivative in the second stage of the chain.  \n",
    "\n",
    "#### Taking steps with $b$:  \n",
    "Now we take a look at the code (note how similar it is to the step for the coefficient, $m$):\n",
    "``` python\n",
    "pred = mx + b\n",
    "error = pred - y\n",
    "derivative = error\n",
    "step = derivative * learning_rate\n",
    "```\n",
    "\n",
    "The step for the intercept ($b$) is just the error multiplied by the learning rate!  \n",
    "The last two lines of code can obviously be simplified to `step = error * learning_rate`.  \n",
    "\n",
    "### Combining what we've learned\n",
    "\n",
    "This can be abstracted to matrix multiplication quite simply.  \n",
    "Using `numpy`, the `@` operator will act as a matrix multiplier (`numpy` also has `arr.dot(arr2)` but I haven't noticed any performance improvments and I find `@` more readable). We simply swap out the `*` with `@` wherever we're multiplying matrices (but don't forget that order matters during matrix multiplication!).  \n",
    "(_Note that due to matrix multiplication magic, this can work with a single observation, a batch of observations, or even an entire dataset._ You simply need to divide by the number of observations used in the calculation and multiply by the learning rate).\n",
    "``` python\n",
    "n = len(X[0])\n",
    "pred = (X @ m) + b\n",
    "error = (pred - y) * (1/n)\n",
    "coefs -= error @ x * learning_rate\n",
    "intercept -= error.sum() * learning_rate\n",
    "```\n",
    "\n",
    "### But why do we actually need a learning rate?\n",
    "\n",
    "#### An analogy to get you thinking\n",
    "Imagine you and 3 friends are trying to lift a table. The table weighs 100 pounds, but at the start each person is lifting only 10 pounds of the table's weight.\n",
    "\n",
    "That's 40 pounds in total, so everyone combined is 60 pounds short of holding the entire weight of the table; they haven't managed to move/lift it yet.\n",
    "\n",
    "If one person were to lift the remaining 60 pounds, they might manage to lift the table, but it would be lopsided (or maybe even flip!). We can compare this to modifying a single coefficient without using a learning rate. In this example, that one coefficient (person) would take the entire remaining weight of the table. \n",
    "\n",
    "If each one were to independently decide to lift the remaining 60 pounds, and they did so simultaneously, they would likely end up throwing the table into the air! We can compare this to over-fitting like _crazy_. Each coefficient is trying to do all of the work (lift the entire remaining weight of the table) on its own.\n",
    "\n",
    "The solution is for everyone to constantly make small adjustments until they smoothly/evenly lift the table off of the floor with each person ultimately taking about 25 pounds of the table's weight. \n",
    "\n",
    "Furthering the comparison, if one side/corner of the table weighed more, then the person holding that side/corner would need to lift more. Lifting more weight would be like increasing the coefficient for that feature. Going on step further, when all people are lifting the same amount, it's like having 4 features with perfect multicolinearity. But, unlike a single perfectly weighted coefficient, we can't all lift a 100 pound table on our own.\n",
    "\n",
    "#### Showing it with data:\n",
    "Below I train a simple model without using a learning rate, i.e. no small adustments.  \n",
    "This will result in **_extreme_** over-fitting as each coefficient will try to \"explain\" all of the change on its own.  \n",
    "I'll demonstrate this by showing two examples. \n",
    "\n",
    "Below, we train our very simple model:"
   ]
  },
  {
   "cell_type": "code",
   "execution_count": 44,
   "metadata": {},
   "outputs": [],
   "source": [
    "# Array of ones for our coefficients\n",
    "m = np.zeros_like(X_train[0])\n",
    "# The intercept\n",
    "b = 0\n",
    "# The number of oberservations\n",
    "n = X_train.shape[0]\n",
    "\n",
    "pred = X_train @ m + b\n",
    "error = (2/n) * (y_train - pred)\n",
    "\n",
    "d_m = error.T @ X_train\n",
    "d_b = error.sum()\n",
    "\n",
    "m += d_m\n",
    "b += d_b"
   ]
  },
  {
   "cell_type": "markdown",
   "metadata": {},
   "source": [
    "##### First example - Using the Intercept as a predictor:\n",
    "The predicted `b` is equal to the mean of our target. The best (and only) prediction that can be made when there are no features (e.g. only an intercept and a target).  \n",
    "Pop-quiz: What will the r-squared be if we make predictions using only the intercept, `b`?"
   ]
  },
  {
   "cell_type": "code",
   "execution_count": 45,
   "metadata": {},
   "outputs": [
    {
     "name": "stdout",
     "output_type": "stream",
     "text": [
      "984.8134405883508 - The intercept that we've created\n",
      "984.8134405883509 - The mean of the target\n"
     ]
    }
   ],
   "source": [
    "print(b/2, \"- The intercept that we've created\")\n",
    "print(y_train.mean(), \"- The mean of the target\")"
   ]
  },
  {
   "cell_type": "markdown",
   "metadata": {},
   "source": [
    "##### Second example - Using only one of our coefficients:\n",
    "The 8 coefficients without the intercept actually provide a reasonably accurate prediction for our target varianle. It makes sense that this works without the target variable because the adjustments that resulted in these coefficients were made without any knowledge that a y intercept might ever exist. They are the best fit given the available information. "
   ]
  },
  {
   "cell_type": "code",
   "execution_count": 46,
   "metadata": {},
   "outputs": [
    {
     "data": {
      "text/plain": [
       "0.9303584913819554"
      ]
     },
     "execution_count": 46,
     "metadata": {},
     "output_type": "execute_result"
    }
   ],
   "source": [
    "results = X_test @ m\n",
    "r2_score(y_test, results/4)"
   ]
  },
  {
   "cell_type": "markdown",
   "metadata": {},
   "source": [
    "So, that's what happens you don't take steps!\n",
    "\n",
    "One curiosity that you may have noticed is that I divided the results by 4. The number was not chosen at random. When one giant step is taken instead of performing gradient descent, it seems the features are typically k/2 times too large. \n",
    "\n",
    "I've been unable to determine the cause of the somewhat tenuous relationship but would love to hear from anyone who knows from where it originates!\n",
    "\n",
    "Below I've plotted for numbers of k from 1 - 20 where you can see this relationship in action.\n",
    "\n",
    "_Note that a decent r-squared is not always produced. I've used a random seed for the sake of reproducability of results_."
   ]
  },
  {
   "cell_type": "code",
   "execution_count": null,
   "metadata": {},
   "outputs": [],
   "source": [
    "for k in range(1, 21):\n",
    "    \n",
    "    np.random.seed(42)\n",
    "\n",
    "    X, y = create_data(n_feats=8, n_obs=1_000)\n",
    "    X = minmax_scale(X)\n",
    "\n",
    "    m = np.zeros_like(X_train[0])\n",
    "    b = 0\n",
    "    n = X.shape[0]\n",
    "\n",
    "    pred = X @ m + b\n",
    "    error = (2/n) * (y - pred)\n",
    "\n",
    "    d = error.T @ X\n",
    "    d = error.sum()\n",
    "    \n",
    "    results = X @ m\n",
    "    score = r2_score(y, results/(k/2))\n",
    "    \n",
    "    info = (k, b/2, y.mean(), score)\n",
    "    \n",
    "    print(\"%02d Features: %4.0f - Intercept, %4.0f - Mean, %.3f - r2_score\" %  info)"
   ]
  },
  {
   "cell_type": "markdown",
   "metadata": {},
   "source": [
    "Now let's go build a model that takes steps."
   ]
  },
  {
   "cell_type": "markdown",
   "metadata": {},
   "source": [
    "### Implementing a Stochastic Gradient Descent Model\n",
    "Now we can finally start creating our gradient descent model!\n",
    "\n",
    "I'm sure you can figure out most of what's going here but I'll point out a few things. We now have `learning_rate` and `max_iter` parameters. These weren't necessary for the normal equation because it's not iterative. Here we're taking steps; we need to know how big they are, and in case we're never going to converge, maybe it's just better to quit early and change your step size (and hopefully that allows you to converge... or just increase the number of iterations).\n",
    "\n",
    "There are many more parameters that I could add to this model for any number of reasons, but these will do for our purposes."
   ]
  },
  {
   "cell_type": "code",
   "execution_count": 26,
   "metadata": {},
   "outputs": [],
   "source": [
    "class StochasticGradientDescent:\n",
    "    \n",
    "    def __init__(self, learning_rate=0.05, max_iter=1_000):\n",
    "        self.l = learning_rate\n",
    "        self.max_iter = max_iter\n",
    "        \n",
    "    def __repr__(self):\n",
    "        parameters = (self.max_iter, self.l)\n",
    "        return \"LinearRegression(max_iter=%s, learning_rate=%s)\" % parameters\n",
    "    \n",
    "    def _gradient_descent(self, x, y):\n",
    "        # Remember that order matters for matrix multiplication but numpy\n",
    "        # allows some flexibility when multiplying (k, ) matrices which\n",
    "        # allows us to use 'mx + b' style notation\n",
    "        pred = self.coefs_ @ x + self.intercept\n",
    "        error = pred - y\n",
    "        self.coefs_ -= error * x * self.l\n",
    "        self.intercept -= error * self.l\n",
    "    \n",
    "    def fit(self, X_train, y_train):\n",
    "        self.intercept = 0\n",
    "        \n",
    "        # Create a numpy array of arbitrarily valued coefficients\n",
    "        # that will be updated as we iterate\n",
    "        self.coefs_ = np.ones_like(X_train[0])\n",
    "        \n",
    "        i = 0\n",
    "        \n",
    "        # We keep track of our r-squared \n",
    "        # When the r-squared in no longer decreasing above a certain\n",
    "        # rate. We've assume we've converged.\n",
    "        old_rss = 0\n",
    "        \n",
    "        converged = False\n",
    "        \n",
    "        while not converged:\n",
    "            for row in zip(X_train, y_train):\n",
    "                \n",
    "                # Array of feature values for a single observation\n",
    "                x = row[0]\n",
    "                \n",
    "                # Target value for a single observation\n",
    "                y_obs = row[1]\n",
    "            \n",
    "                # Perform gradient descent and update \n",
    "                # our coefficients and intercept\n",
    "                self._gradient_descent(x, y_obs)\n",
    "            \n",
    "            # Create predictions\n",
    "            pred = (X_train @ self.coefs_) + self.intercept\n",
    "            \n",
    "            # Calculate the rss for those predictions\n",
    "            new_rss = np.square(pred - y_train).sum() / pred.shape[0]\n",
    "            \n",
    "            i += 1\n",
    "            \n",
    "            # Check the change in rss\n",
    "            if abs((old_rss) - (new_rss)) < 1e-3:\n",
    "                converged = True\n",
    "            if i >= self.max_iter:\n",
    "                print(\"Failed to converged after %s iterations.\" % i)\n",
    "                return self\n",
    "                \n",
    "            # Update the old r-squared\n",
    "            old_rss = new_rss\n",
    "        \n",
    "        return self\n",
    "        \n",
    "    def predict(self, X_test):\n",
    "        preds = (X_test @ self.coefs_) + self.intercept\n",
    "        return preds\n",
    "    \n",
    "    def score(self, X_test, y_test):\n",
    "        preds = (X_test @ self.coefs_) + self.intercept\n",
    "        return r2_score(y_test, preds)"
   ]
  },
  {
   "cell_type": "code",
   "execution_count": 27,
   "metadata": {},
   "outputs": [
    {
     "data": {
      "text/plain": [
       "0.9635397126696881"
      ]
     },
     "execution_count": 27,
     "metadata": {},
     "output_type": "execute_result"
    }
   ],
   "source": [
    "StochasticGradientDescent(max_iter=100).fit(X_train, y_train).score(X_test, y_test)"
   ]
  },
  {
   "cell_type": "markdown",
   "metadata": {},
   "source": [
    "## Batch Gradient Descent\n",
    "\n",
    "While stochastic gradient descent gets the job done, it's not the ideal model. Such frequent steps result in noisy updates for the coefficients on their way to the minima and convergence typically takes significantly longer. One way to counteract this is via batch gradient descent. \n",
    "\n",
    "In essence, batch gradient descent looks over the entire set of training data and takes the average of the steps indicated. This provides a significantly more robust solution for calculating the step size.\n",
    "\n",
    "However, batch gradient descent is not without it's shortcominings. It uses the entire set of training data for each step. This can potentially be millions of observations multiplied by thousands of features. This becomes quite expensive as the number of iterations increases. \n",
    "\n",
    "This problem is solved via mini-bath gradient descent in which a random subset of observations are used for each iteration. Here, I've decided to take the square root of the number of observations. "
   ]
  },
  {
   "cell_type": "markdown",
   "metadata": {},
   "source": [
    "### Mini-Batch Gradient Descent"
   ]
  },
  {
   "cell_type": "code",
   "execution_count": 28,
   "metadata": {},
   "outputs": [],
   "source": [
    "class MiniBatchGradientDescent:\n",
    "    \n",
    "    def __init__(self, max_iter=1_000, learning_rate=.05):\n",
    "        self.max_iter = max_iter\n",
    "        self.learning_rate = learning_rate\n",
    "    \n",
    "    def __repr__(self):\n",
    "        parameters = (self.max_iter, self.learning_rate)\n",
    "        return \"LinearRegression(max_iter=%s, learning_rate=%s)\" % parameters\n",
    "    \n",
    "    def _gradient_descent(self, X, y):\n",
    "        pred = X @ self.coefs_ + self.intercept\n",
    "        error = (1/self.batch_size) * (pred - y)\n",
    "\n",
    "        # error.T = (1 x n) \n",
    "        # X = (n x k) \n",
    "        # error @ k -> (k x 1)\n",
    "        # These will become our updated coefficients\n",
    "        d_coefs = error.T @ X\n",
    "        d_intercept = error.sum()\n",
    "\n",
    "        self.coefs_ -= self.learning_rate * d_coefs\n",
    "        self.intercept -= self.learning_rate * d_intercept\n",
    "    \n",
    "    def fit(self, X_train, y_train):\n",
    "        self.coefs_ = np.zeros_like(X_train[0])\n",
    "        self.intercept = 0\n",
    "        \n",
    "        # Our number of observations\n",
    "        n = X_train.shape[0]\n",
    "        \n",
    "        # Calculating batch size from number of observations\n",
    "        self.batch_size = int(np.sqrt(n))\n",
    "        \n",
    "        # Keeping track of number of iterations\n",
    "        i = 0\n",
    "        \n",
    "        old_rss = 0\n",
    "        converged = False\n",
    "\n",
    "        while not converged:\n",
    "            batch_indices = np.random.choice(n, self.batch_size)\n",
    "            X_batch = X_train[batch_indices, :]\n",
    "            y_batch = y_train[batch_indices]\n",
    "            \n",
    "            # Perform gradient descent and update \n",
    "            # our coefficients and intercept\n",
    "            self._gradient_descent(X_batch, y_batch)\n",
    "\n",
    "            pred = (X_train @ self.coefs_) + self.intercept\n",
    "            new_rss = np.square(pred - y_train).sum() / pred.shape[0]\n",
    "            \n",
    "            i += 1\n",
    "            if abs((old_rss) - (new_rss)) < 1e-3:\n",
    "                converged = True\n",
    "            if i >= self.max_iter:\n",
    "                return self, print(\"Failed to converged after %s iterations.\" % i)\n",
    "            old_rss = new_rss\n",
    "            \n",
    "        return self\n",
    "        \n",
    "    def predict(self, X_test):\n",
    "        preds = (X_test @ self.coefs_) + self.intercept\n",
    "        return preds\n",
    "    \n",
    "    def score(self, X_test, y_test):\n",
    "        preds = (X_test @ self.coefs_) + self.intercept\n",
    "        return r2_score(y_test, preds)"
   ]
  },
  {
   "cell_type": "code",
   "execution_count": 29,
   "metadata": {},
   "outputs": [
    {
     "data": {
      "text/plain": [
       "0.972384194585432"
      ]
     },
     "execution_count": 29,
     "metadata": {},
     "output_type": "execute_result"
    }
   ],
   "source": [
    "MiniBatchGradientDescent(max_iter=10_000).fit(X_train, y_train).score(X_test, y_test)"
   ]
  },
  {
   "cell_type": "markdown",
   "metadata": {},
   "source": [
    "There you have it; there's mini-batch gradient descent.\n",
    "\n",
    "Not as fast or as reliable as sklearn's model, but an understanding of what is happening in the above will be a great asset if you ever need to understand how linear regression works under the hood.\n",
    "\n",
    "I hope you've enjoyed reading this as much as I went crazy writing it!"
   ]
  }
 ],
 "metadata": {
  "kernelspec": {
   "display_name": "Python 3",
   "language": "python",
   "name": "python3"
  },
  "language_info": {
   "codemirror_mode": {
    "name": "ipython",
    "version": 3
   },
   "file_extension": ".py",
   "mimetype": "text/x-python",
   "name": "python",
   "nbconvert_exporter": "python",
   "pygments_lexer": "ipython3",
   "version": "3.7.3"
  }
 },
 "nbformat": 4,
 "nbformat_minor": 4
}
