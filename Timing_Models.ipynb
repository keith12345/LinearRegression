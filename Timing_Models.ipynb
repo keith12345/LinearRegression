{
 "cells": [
  {
   "cell_type": "code",
   "execution_count": 3,
   "metadata": {},
   "outputs": [],
   "source": [
    "import numpy as np\n",
    "\n",
    "from sklearn.linear_model import LinearRegression\n",
    "from sklearn.preprocessing import minmax_scale\n",
    "from sklearn.model_selection import train_test_split\n",
    "from sklearn.metrics import r2_score\n",
    "\n",
    "import pandas as pd\n",
    "# import altair as alt\n",
    "\n",
    "from time import time\n",
    "import pickle"
   ]
  },
  {
   "cell_type": "code",
   "execution_count": 2,
   "metadata": {},
   "outputs": [],
   "source": [
    "def create_data(n_feats=8, n_obs=1000):\n",
    "    features = ('f' + str(x) for x in range(n_feats))\n",
    "    target = abs(np.random.normal(1000, 250, n_obs))\n",
    "    feat_vals = []\n",
    "    for feature in features:\n",
    "        feat_vals.append(np.fromiter((np.random.normal(\n",
    "                            abs(np.random.normal(target[i],\n",
    "                            abs(np.random.normal(100, 30)))))\n",
    "                            for i in range(n_obs)), dtype='float'))\n",
    "    X = np.array(feat_vals).T\n",
    "    return X, target"
   ]
  },
  {
   "cell_type": "code",
   "execution_count": 2,
   "metadata": {},
   "outputs": [],
   "source": [
    "class NormalEquation:\n",
    "    \n",
    "    def __init__(self):\n",
    "        pass\n",
    "    \n",
    "    def __repr__(self):\n",
    "        return \"OLS()\"\n",
    "    \n",
    "    def fit(self, X_train, y_train):\n",
    "        # Our new column that we'll call intercept\n",
    "        # We make it based on the shape of the first column in our training data\n",
    "        intercept = np.ones_like(X_train[:, 0])\n",
    "        \n",
    "        # We add our new column to our training data and create a new variable\n",
    "        X_train_int = np.insert(X_train, 0, intercept, axis=1)\n",
    "        \n",
    "        # Use the normal equation\n",
    "        # (X_train_int.T @ X_train_int)^-1 = ((k x n) @ (n x k))^-1 -> k x k\n",
    "        # X_train_int.T = (k x n)\n",
    "        # y_train = (n x 1)\n",
    "        # coefs = (k x k) @ (k x n) @ (n x 1) -> k x 1\n",
    "        coefs = np.linalg.inv(X_train_int.T @ X_train_int) @ X_train_int.T @ y_train\n",
    "        \n",
    "        # Save our coefficients for later use\n",
    "        self.coefs_ = coefs\n",
    "        return self\n",
    "    \n",
    "    def predict(self, X_test):\n",
    "        # Again, we create a new column for the test data\n",
    "        intercept = np.ones_like(X_test[:, 0])\n",
    "        X_test_int = np.insert(X_test, 0, intercept, axis=1)\n",
    "        \n",
    "        # preds = (n x k) @ (k x 1) = n x 1\n",
    "        preds = X_test_int @ self.coefs_\n",
    "        return preds\n",
    "    \n",
    "    def score(self, X_test, y_test):\n",
    "        # Again, we create a new column for the test data\n",
    "        intercept = np.ones_like(X_test[:, 0])\n",
    "        X_test_int = np.insert(X_test, 0, intercept, axis=1)\n",
    "\n",
    "        # preds = (n x k) @ (k x 1) = n x 1\n",
    "        preds = X_test_int @ self.coefs_\n",
    "        \n",
    "        # Here we're simply calculating r-squared\n",
    "        score = 1 - ((y_test - preds)**2).sum() / ((y_test - y_test.mean())**2).sum()\n",
    "        return score"
   ]
  },
  {
   "cell_type": "code",
   "execution_count": 3,
   "metadata": {},
   "outputs": [],
   "source": [
    "X, target = create_data(5_000, 5_000)"
   ]
  },
  {
   "cell_type": "code",
   "execution_count": null,
   "metadata": {},
   "outputs": [],
   "source": [
    "for _ in range(5):\n",
    "    new_feats = ('f' + str(x) for x in range(X.shape[1]))\n",
    "    new_targs = abs(np.random.normal(1_000, 250, 5_000))\n",
    "    new_feat_vals = []\n",
    "    for feature in new_feats:\n",
    "        new_feat_vals.append(np.fromiter((np.random.normal(\n",
    "                            abs(np.random.normal(new_targs[i],\n",
    "                            abs(np.random.normal(100, 30)))))\n",
    "                            for i in range(5_000)), dtype='float'))\n",
    "    new_X = np.array(new_feat_vals).T\n",
    "    new_X = minmax_scale(new_X)\n",
    "\n",
    "    # Add features for new observations\n",
    "    X = np.append(X, new_X, axis=0)\n",
    "\n",
    "    # Add new target for new observations\n",
    "    target = np.append(target, new_targs, axis=0)\n",
    "\n",
    "    # Creates new features for new and existing observations\n",
    "    new_feats = ('f' + str(x) for x in range(5_000))\n",
    "    new_feat_vals = []\n",
    "    for feature in new_feats:\n",
    "        new_feat_vals.append(np.fromiter((np.random.normal(\n",
    "                            abs(np.random.normal(target[i],\n",
    "                            abs(np.random.normal(100, 30)))))\n",
    "                            for i in range(target.shape[0])), dtype='float'))\n",
    "    new_X = np.array(new_feat_vals).T\n",
    "    new_X = minmax_scale(new_X)\n",
    "\n",
    "    # Add new features to modifed matrix\n",
    "    X = np.append(X, new_X, axis=1)\n",
    "\n",
    "    t_X = pd.DataFrame(X)\n",
    "    t_y = pd.DataFrame(target)\n",
    "    data = pd.concat([t_X, t_y], axis=1)\n",
    "    data.to_csv(\"Data/X_y_\"+str(data.shape[0])+\".csv\")"
   ]
  },
  {
   "cell_type": "code",
   "execution_count": 4,
   "metadata": {},
   "outputs": [],
   "source": [
    "df = pd.read_csv('Data/X_y_30000.pkl', index_col=0)"
   ]
  },
  {
   "cell_type": "code",
   "execution_count": 8,
   "metadata": {},
   "outputs": [],
   "source": [
    "target = df.iloc[:, -1].values\n",
    "X = df.iloc[:, :-1].values"
   ]
  },
  {
   "cell_type": "code",
   "execution_count": null,
   "metadata": {},
   "outputs": [],
   "source": [
    "start = time()\n",
    "NormalEquation().fit(X[:15_000, :19_999], target[:15_000])\n",
    "end = time()\n",
    "print(end - start)\n",
    "\n",
    "start = time()\n",
    "LinearRegression().fit(X[:15_000, :19_999], target[:15_000])\n",
    "end = time()\n",
    "print(end - start)\n",
    "\n",
    "start = time()\n",
    "LinearRegression(n_jobs=-1).fit(X[:15_000, :19_999], target[:15_000])\n",
    "end = time()\n",
    "print(end - start)"
   ]
  },
  {
   "cell_type": "code",
   "execution_count": null,
   "metadata": {},
   "outputs": [],
   "source": [
    "sizes_sq = np.linspace(1_000, 900_000_000, 50)\n",
    "indices = map(int, map(np.sqrt, sizes_sq))"
   ]
  },
  {
   "cell_type": "code",
   "execution_count": null,
   "metadata": {},
   "outputs": [],
   "source": [
    "norml_equat_time = []\n",
    "sklrn_model_time = []\n",
    "sklrn_njms1_time = []\n",
    "\n",
    "for i in indices:\n",
    "    \n",
    "    # Sublists for taking average run-time\n",
    "    norml_equat_time_sub = []\n",
    "    sklrn_model_time_sub = []\n",
    "    sklrn_njms1_time_sub = []\n",
    "\n",
    "    for _ in range(3):\n",
    "\n",
    "        start = time()\n",
    "        NormalEquation().fit(X[:i, :i-1], target[:i])\n",
    "        end = time()\n",
    "        norml_equat_time_sub.append(end - start)\n",
    "\n",
    "        start = time()\n",
    "        LinearRegression().fit(X[:i, :i-1], target[:i])\n",
    "        end = time()\n",
    "        sklrn_model_time_sub.append(end - start)\n",
    "        \n",
    "        start = time()\n",
    "        LinearRegression(n_jobs=-1).fit(X[:i, :i-1], target[:i])\n",
    "        end = time()\n",
    "        sklrn_njms1_time_sub.append(end - start)\n",
    "\n",
    "    # Add average time to list\n",
    "    norml_equat_time.append(sum(norml_equat_time_sub)/3)\n",
    "    sklrn_model_time.append(sum(sklrn_model_time_sub)/3)\n",
    "    sklrn_njms1_time.append(sum(sklrn_njms1_time_sub)/3)\n",
    "    \n",
    "    # Save results for each iteration in the event the loop\n",
    "    # terminates early\n",
    "    results = [norml_equat_time, sklrn_model_time, sklrn_njms1_time]\n",
    "    results_name = \"Data/results_%s.pkl\" % str(target.shape[0])\n",
    "    \n",
    "    file = open(results_name, \"wb\")\n",
    "    pickle.dump(results, file)\n",
    "    file.close()\n",
    "    \n",
    "    print(time())"
   ]
  },
  {
   "cell_type": "code",
   "execution_count": 52,
   "metadata": {},
   "outputs": [
    {
     "data": {
      "application/vnd.vegalite.v3+json": {
       "$schema": "https://vega.github.io/schema/vega-lite/v3.4.0.json",
       "config": {
        "mark": {
         "tooltip": null
        },
        "view": {
         "height": 300,
         "width": 400
        }
       },
       "data": {
        "name": "data-9fcda61be5a7ee5a8601f9b478e32c44"
       },
       "datasets": {
        "data-9fcda61be5a7ee5a8601f9b478e32c44": [
         {
          "Duration": 0.00018320083618164062,
          "Model": "Normal Equation",
          "N Observations": 2500
         },
         {
          "Duration": 0.00044569969177246096,
          "Model": "Normal Equation",
          "N Observations": 5000
         },
         {
          "Duration": 0.0011010169982910156,
          "Model": "Normal Equation",
          "N Observations": 7500
         },
         {
          "Duration": 0.0014439105987548828,
          "Model": "Normal Equation",
          "N Observations": 10000
         },
         {
          "Duration": 0.0010820865631103516,
          "Model": "Normal Equation",
          "N Observations": 12500
         },
         {
          "Duration": 0.0019362926483154296,
          "Model": "Normal Equation",
          "N Observations": 15000
         },
         {
          "Duration": 0.002657032012939453,
          "Model": "Normal Equation",
          "N Observations": 17500
         },
         {
          "Duration": 0.0034833908081054687,
          "Model": "Normal Equation",
          "N Observations": 20000
         },
         {
          "Duration": 0.003354454040527344,
          "Model": "Normal Equation",
          "N Observations": 22500
         },
         {
          "Duration": 0.004104471206665039,
          "Model": "Normal Equation",
          "N Observations": 25000
         },
         {
          "Duration": 0.005140495300292969,
          "Model": "Normal Equation",
          "N Observations": 27500
         },
         {
          "Duration": 0.003990316390991211,
          "Model": "Normal Equation",
          "N Observations": 30000
         },
         {
          "Duration": 0.0063016414642333984,
          "Model": "Normal Equation",
          "N Observations": 32500
         },
         {
          "Duration": 0.0024335384368896484,
          "Model": "Normal Equation",
          "N Observations": 35000
         },
         {
          "Duration": 0.004806900024414062,
          "Model": "Normal Equation",
          "N Observations": 37500
         },
         {
          "Duration": 0.006242561340332031,
          "Model": "Normal Equation",
          "N Observations": 40000
         },
         {
          "Duration": 0.005733633041381836,
          "Model": "Normal Equation",
          "N Observations": 42500
         },
         {
          "Duration": 0.004792165756225586,
          "Model": "Normal Equation",
          "N Observations": 45000
         },
         {
          "Duration": 0.007209300994873047,
          "Model": "Normal Equation",
          "N Observations": 47500
         },
         {
          "Duration": 0.005322647094726562,
          "Model": "Normal Equation",
          "N Observations": 50000
         },
         {
          "Duration": 0.006867551803588867,
          "Model": "Normal Equation",
          "N Observations": 52500
         },
         {
          "Duration": 0.006502723693847657,
          "Model": "Normal Equation",
          "N Observations": 55000
         },
         {
          "Duration": 0.007532358169555664,
          "Model": "Normal Equation",
          "N Observations": 57500
         },
         {
          "Duration": 0.008084917068481445,
          "Model": "Normal Equation",
          "N Observations": 60000
         },
         {
          "Duration": 0.008823156356811523,
          "Model": "Normal Equation",
          "N Observations": 62500
         },
         {
          "Duration": 0.0080657958984375,
          "Model": "Normal Equation",
          "N Observations": 65000
         },
         {
          "Duration": 0.008763742446899415,
          "Model": "Normal Equation",
          "N Observations": 67500
         },
         {
          "Duration": 0.009937715530395509,
          "Model": "Normal Equation",
          "N Observations": 70000
         },
         {
          "Duration": 0.010933732986450196,
          "Model": "Normal Equation",
          "N Observations": 72500
         },
         {
          "Duration": 0.010667896270751953,
          "Model": "Normal Equation",
          "N Observations": 75000
         },
         {
          "Duration": 0.010551929473876953,
          "Model": "Normal Equation",
          "N Observations": 77500
         },
         {
          "Duration": 0.011010694503784179,
          "Model": "Normal Equation",
          "N Observations": 80000
         },
         {
          "Duration": 0.011783266067504882,
          "Model": "Normal Equation",
          "N Observations": 82500
         },
         {
          "Duration": 0.01095428466796875,
          "Model": "Normal Equation",
          "N Observations": 85000
         },
         {
          "Duration": 0.011032629013061523,
          "Model": "Normal Equation",
          "N Observations": 87500
         },
         {
          "Duration": 0.011328983306884765,
          "Model": "Normal Equation",
          "N Observations": 90000
         },
         {
          "Duration": 0.011476850509643555,
          "Model": "Normal Equation",
          "N Observations": 92500
         },
         {
          "Duration": 0.01049180030822754,
          "Model": "Normal Equation",
          "N Observations": 95000
         },
         {
          "Duration": 0.012974834442138672,
          "Model": "Normal Equation",
          "N Observations": 97500
         },
         {
          "Duration": 0.012497568130493164,
          "Model": "Normal Equation",
          "N Observations": 100000
         },
         {
          "Duration": 0.00018854141235351561,
          "Model": "Sklearn",
          "N Observations": 2500
         },
         {
          "Duration": 0.0018129348754882812,
          "Model": "Sklearn",
          "N Observations": 5000
         },
         {
          "Duration": 0.0011967182159423827,
          "Model": "Sklearn",
          "N Observations": 7500
         },
         {
          "Duration": 0.00163421630859375,
          "Model": "Sklearn",
          "N Observations": 10000
         },
         {
          "Duration": 0.0031347274780273438,
          "Model": "Sklearn",
          "N Observations": 12500
         },
         {
          "Duration": 0.005405282974243164,
          "Model": "Sklearn",
          "N Observations": 15000
         },
         {
          "Duration": 0.006812286376953125,
          "Model": "Sklearn",
          "N Observations": 17500
         },
         {
          "Duration": 0.005919027328491211,
          "Model": "Sklearn",
          "N Observations": 20000
         },
         {
          "Duration": 0.006806039810180664,
          "Model": "Sklearn",
          "N Observations": 22500
         },
         {
          "Duration": 0.006315755844116211,
          "Model": "Sklearn",
          "N Observations": 25000
         },
         {
          "Duration": 0.009578227996826172,
          "Model": "Sklearn",
          "N Observations": 27500
         },
         {
          "Duration": 0.010611295700073242,
          "Model": "Sklearn",
          "N Observations": 30000
         },
         {
          "Duration": 0.010399293899536134,
          "Model": "Sklearn",
          "N Observations": 32500
         },
         {
          "Duration": 0.01040334701538086,
          "Model": "Sklearn",
          "N Observations": 35000
         },
         {
          "Duration": 0.007159519195556641,
          "Model": "Sklearn",
          "N Observations": 37500
         },
         {
          "Duration": 0.009661149978637696,
          "Model": "Sklearn",
          "N Observations": 40000
         },
         {
          "Duration": 0.010001659393310547,
          "Model": "Sklearn",
          "N Observations": 42500
         },
         {
          "Duration": 0.010456514358520509,
          "Model": "Sklearn",
          "N Observations": 45000
         },
         {
          "Duration": 0.01193394660949707,
          "Model": "Sklearn",
          "N Observations": 47500
         },
         {
          "Duration": 0.011853885650634766,
          "Model": "Sklearn",
          "N Observations": 50000
         },
         {
          "Duration": 0.011647939682006836,
          "Model": "Sklearn",
          "N Observations": 52500
         },
         {
          "Duration": 0.013096475601196289,
          "Model": "Sklearn",
          "N Observations": 55000
         },
         {
          "Duration": 0.011630821228027343,
          "Model": "Sklearn",
          "N Observations": 57500
         },
         {
          "Duration": 0.014862251281738282,
          "Model": "Sklearn",
          "N Observations": 60000
         },
         {
          "Duration": 0.014982509613037109,
          "Model": "Sklearn",
          "N Observations": 62500
         },
         {
          "Duration": 0.016680240631103516,
          "Model": "Sklearn",
          "N Observations": 65000
         },
         {
          "Duration": 0.01670079231262207,
          "Model": "Sklearn",
          "N Observations": 67500
         },
         {
          "Duration": 0.015939712524414062,
          "Model": "Sklearn",
          "N Observations": 70000
         },
         {
          "Duration": 0.016237735748291016,
          "Model": "Sklearn",
          "N Observations": 72500
         },
         {
          "Duration": 0.018671560287475585,
          "Model": "Sklearn",
          "N Observations": 75000
         },
         {
          "Duration": 0.01806955337524414,
          "Model": "Sklearn",
          "N Observations": 77500
         },
         {
          "Duration": 0.018799781799316406,
          "Model": "Sklearn",
          "N Observations": 80000
         },
         {
          "Duration": 0.02146749496459961,
          "Model": "Sklearn",
          "N Observations": 82500
         },
         {
          "Duration": 0.019743585586547853,
          "Model": "Sklearn",
          "N Observations": 85000
         },
         {
          "Duration": 0.02158632278442383,
          "Model": "Sklearn",
          "N Observations": 87500
         },
         {
          "Duration": 0.023042058944702147,
          "Model": "Sklearn",
          "N Observations": 90000
         },
         {
          "Duration": 0.024187707901000978,
          "Model": "Sklearn",
          "N Observations": 92500
         },
         {
          "Duration": 0.022224950790405273,
          "Model": "Sklearn",
          "N Observations": 95000
         },
         {
          "Duration": 0.025022125244140624,
          "Model": "Sklearn",
          "N Observations": 97500
         },
         {
          "Duration": 0.024674606323242188,
          "Model": "Sklearn",
          "N Observations": 100000
         }
        ]
       },
       "encoding": {
        "color": {
         "field": "Model",
         "type": "nominal"
        },
        "x": {
         "field": "N Observations",
         "type": "quantitative"
        },
        "y": {
         "field": "Duration",
         "type": "quantitative"
        }
       },
       "mark": "line"
      },
      "image/png": "[encoded data removed]",
      "text/plain": [
       "<VegaLite 3 object>\n",
       "\n",
       "If you see this message, it means the renderer has not been properly enabled\n",
       "for the frontend that you are using. For more information, see\n",
       "https://altair-viz.github.io/user_guide/troubleshooting.html\n"
      ]
     },
     "execution_count": 52,
     "metadata": {},
     "output_type": "execute_result"
    }
   ],
   "source": [
    "\n",
    "x = np.arange(100)\n",
    "source = pd.DataFrame({\n",
    "    'Duration': normal_equation + sklearn_LinRegr,\n",
    "    'Model':['Normal Equation'] * 40 + ['Sklearn'] * 40,\n",
    "    'N Observations': list(n_observations) * 2\n",
    "})\n",
    "\n",
    "alt.Chart(source).mark_line().encode(\n",
    "    x='N Observations',\n",
    "    y='Duration',\n",
    "    color='Model'\n",
    ")\n"
   ]
  }
 ],
 "metadata": {
  "kernelspec": {
   "display_name": "Python 3",
   "language": "python",
   "name": "python3"
  },
  "language_info": {
   "codemirror_mode": {
    "name": "ipython",
    "version": 3
   },
   "file_extension": ".py",
   "mimetype": "text/x-python",
   "name": "python",
   "nbconvert_exporter": "python",
   "pygments_lexer": "ipython3",
   "version": "3.7.3"
  }
 },
 "nbformat": 4,
 "nbformat_minor": 4
}
